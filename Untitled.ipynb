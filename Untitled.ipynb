{
 "cells": [
  {
   "cell_type": "markdown",
   "id": "f0a5585f",
   "metadata": {},
   "source": [
    "# Ans1"
   ]
  },
  {
   "cell_type": "code",
   "execution_count": 2,
   "id": "fd51d3a9",
   "metadata": {},
   "outputs": [],
   "source": [
    "# Api- is a application programming interface, it is use to communicate with two or more app .\n",
    "# Another API example in action is the vast array of bots available on Twitter. Twitter bots \n",
    "# are accounts that tweet (or retweet), follow, and send direct messages in response to software \n",
    "# commands. There are several Twitter bots, \n",
    "# but here are a handful of our favorites:"
   ]
  },
  {
   "cell_type": "markdown",
   "id": "7a2c3be2",
   "metadata": {},
   "source": [
    "# Ans2"
   ]
  },
  {
   "cell_type": "code",
   "execution_count": 3,
   "id": "cea47233",
   "metadata": {},
   "outputs": [],
   "source": [
    "# adv-APIs bring a new level of modularity to applications. APIs allow developers \n",
    "# to leverage the expertise of other applications. When an organization develops an\n",
    "# application, they no longer need to reinvent the wheel when it comes to things like authentication,\n",
    "# communication, payment processing, and maps.\n",
    "\n",
    "# disadv-Vulnerability scans that weren’t designed for API vulnerabilities will result\n",
    "# in false-negative findings. False negative vulnerability results are one of the most dangerous threats\n",
    "# to plague an information security program."
   ]
  },
  {
   "cell_type": "markdown",
   "id": "00367aeb",
   "metadata": {},
   "source": [
    "# Ans3"
   ]
  },
  {
   "cell_type": "code",
   "execution_count": 4,
   "id": "1e7cf1c1",
   "metadata": {},
   "outputs": [],
   "source": [
    "# Web API as the name suggests, is an API over the web which can be accessed using HTTP protocol. \n",
    "# It is a concept and not a technology\n",
    "\n",
    "# A Web service is a way for two machines to communicate with each other over a network.\n",
    "# An API, or Application Programming Interface, is a set of definitions and protocols that allow one\n",
    "# application to communicate with another application."
   ]
  },
  {
   "cell_type": "markdown",
   "id": "bfbd17f7",
   "metadata": {},
   "source": [
    "# Ans4"
   ]
  },
  {
   "cell_type": "code",
   "execution_count": 5,
   "id": "25f2efa4",
   "metadata": {},
   "outputs": [],
   "source": [
    "# Rest--REST is all about simplicity, thanks to HTTP protocols.\n",
    "# REST APIs facilitate client-server communications and architectures. \n",
    "# If it’s RESTful, it’s built on this client-server principle, with round \n",
    "# trips between the two passing payloads of information.\n",
    "\n",
    "# soap--SOAP (Simple Object Access Protocol) is its own protocol and is a \n",
    "# bit more complex by defining more standards than REST—things like security and how messages are sent. \n",
    "# These built-in standards do carry a bit more overhead. "
   ]
  },
  {
   "cell_type": "markdown",
   "id": "f37a18cf",
   "metadata": {},
   "source": [
    "# Ans5"
   ]
  },
  {
   "cell_type": "code",
   "execution_count": null,
   "id": "01fa14f0",
   "metadata": {},
   "outputs": [],
   "source": [
    "Rest is not a light weigth and its has more feaure it is easy to implement, \n",
    "where soap is a "
   ]
  }
 ],
 "metadata": {
  "kernelspec": {
   "display_name": "Python 3 (ipykernel)",
   "language": "python",
   "name": "python3"
  },
  "language_info": {
   "codemirror_mode": {
    "name": "ipython",
    "version": 3
   },
   "file_extension": ".py",
   "mimetype": "text/x-python",
   "name": "python",
   "nbconvert_exporter": "python",
   "pygments_lexer": "ipython3",
   "version": "3.11.1"
  }
 },
 "nbformat": 4,
 "nbformat_minor": 5
}
